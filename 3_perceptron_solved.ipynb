{
 "cells": [
  {
   "cell_type": "markdown",
   "metadata": {},
   "source": [
    "# Perceptron\n",
    "\n",
    "In this session we will implement the Perceprton algorithm from scratch. \n",
    "\n",
    "The data we will use to test our implementation is a collection of movie reviews, each associated with a rating. The data comes in a pre-processed form, with the features extracted, and has the following format:\n",
    "\n",
    "```\n",
    "target feature_1:feature_value1 features_2:value_2 ...\n",
    "\n",
    "```\n",
    "\n",
    "For example:\n",
    "\n",
    "```\n",
    "1 0:2.0 3:4.0 123:1.0\n",
    "```\n",
    "This means the example's target label is 1, features 0 is 2.0, feature\n",
    "3 is 4.0, feature 123 is 1.0 (all the other features are implicitly\n",
    "0.0). The features are word counts.\n",
    "\n",
    "We will start by writing some code to work with this data.\n"
   ]
  },
  {
   "cell_type": "markdown",
   "metadata": {},
   "source": [
    "## Exercise 1\n",
    "\n",
    "We want to work with binary labels (positive vs negative) but we have integer ratings. We will convert the ratings to binary labels using 5 as a threshold: is the rating is higher, the label will be positive, otherwise it'll be negative.\n",
    "\n",
    "Define function ``binarize``. The function should accept a list of numeric\n",
    "ratings, and return a list of class labels -1 and 1.\n"
   ]
  },
  {
   "cell_type": "code",
   "execution_count": 1,
   "metadata": {},
   "outputs": [
    {
     "name": "stdout",
     "output_type": "stream",
     "text": [
      "[-1, -1, -1, -1, -1, -1, 1, 1, 1, 1, 1]\n"
     ]
    }
   ],
   "source": [
    "def binarize(y):\n",
    "    return [ 1 if y_i > 5 else -1 for y_i in y]\n",
    "\n",
    "y = list(range(0,11))\n",
    "print(binarize(y))"
   ]
  },
  {
   "cell_type": "markdown",
   "metadata": {},
   "source": [
    "## Exercise 2\n",
    "\n",
    "Define function ``parse_line`` which extracts the target label and\n",
    "feature values of a training example from a string. Your function should return two values:\n",
    "\n",
    "- a dictionary mapping features (as ints) to values (as floats)\n",
    "- the target label (as int)"
   ]
  },
  {
   "cell_type": "code",
   "execution_count": 3,
   "metadata": {},
   "outputs": [
    {
     "name": "stdout",
     "output_type": "stream",
     "text": [
      "({0: 2.0, 123: 1.0, 3: 4.0}, 1)\n"
     ]
    }
   ],
   "source": [
    "def parse_line(line):\n",
    "    def parse_feature(x):\n",
    "        key, val = x.split(':')\n",
    "        return(int(key), float(val))\n",
    "    fields = line.split()\n",
    "    y = int(fields[0])\n",
    "    x = dict([ parse_feature(f) for f in fields[1:]])\n",
    "    return x,y\n",
    "    \n",
    "line = '1 0:2.0 3:4.0 123:1.0\\n'\n",
    "print(parse_line(line))"
   ]
  },
  {
   "cell_type": "markdown",
   "metadata": {},
   "source": [
    "## Reading the data\n",
    "\n",
    "Once we have these two functions, we can read our dataset from the input file."
   ]
  },
  {
   "cell_type": "code",
   "execution_count": 41,
   "metadata": {},
   "outputs": [],
   "source": [
    "import random\n",
    "random.seed(123)\n",
    "def prepare_data():\n",
    "    \"\"\"Read data from input file, shuffle and return a list of training examples.\"\"\"\n",
    "    # Sample 10% of data so we don't crash the server\n",
    "    train = []\n",
    "    for line in open('sentiment5K.feat'):\n",
    "        if random.random() >= 0.9:\n",
    "            train.append(parse_line(line))\n",
    "    \n",
    "    # We will shuffle the examples so that we have a mixture of positive and negative cases\n",
    "    random.shuffle(train)\n",
    "    # We unzip the data into input features and target labels\n",
    "    X, Z = list(zip(*train))\n",
    "    # We binarize the labels\n",
    "    Y = binarize(Z)\n",
    "    return list(zip(X,Y))"
   ]
  },
  {
   "cell_type": "code",
   "execution_count": 14,
   "metadata": {},
   "outputs": [],
   "source": [
    "XY = prepare_data()"
   ]
  },
  {
   "cell_type": "code",
   "execution_count": 46,
   "metadata": {},
   "outputs": [
    {
     "data": {
      "text/plain": [
       "1"
      ]
     },
     "execution_count": 46,
     "metadata": {},
     "output_type": "execute_result"
    }
   ],
   "source": [
    "XY[1][1]"
   ]
  },
  {
   "cell_type": "markdown",
   "metadata": {},
   "source": [
    "The variable ``XY`` contains the list of examples, where each example is a \n",
    "tuple with the input in the first position and the target in the second position.\n"
   ]
  },
  {
   "cell_type": "markdown",
   "metadata": {},
   "source": [
    "## Vector operations\n",
    "\n",
    "Our inputs are word counts and therefore sparse: most feature values are zero. For this reason we are representing these feature vectors as Python dictionaries where we will record the non-zero values, and treat the zero values as implicit. We now need to implement the vector operations needed for the Perceptron algorithm for the dictionary representation."
   ]
  },
  {
   "cell_type": "markdown",
   "metadata": {},
   "source": [
    "## Exercise 3\n",
    "\n",
    "Define the function ``dot`` which calculates the dot (or inner) product of two\n",
    "vectors. This function should work on vectors represented as\n",
    "dictionaries: any missing key in the dictionary is implicitly equal to\n",
    "0.0. In order to compute the dot product, you need to multiply the\n",
    "values at the corresponding keys together, and sum all the results.\n",
    "This function can assume that the vector with more non-zero entries\n",
    "(i.e. dictionary with more keys) will be the first argument. This\n",
    "is useful for efficiency.\n"
   ]
  },
  {
   "cell_type": "code",
   "execution_count": 47,
   "metadata": {},
   "outputs": [
    {
     "name": "stdout",
     "output_type": "stream",
     "text": [
      "-6.5\n"
     ]
    }
   ],
   "source": [
    "def dot(big, small):\n",
    "    s = 0.0\n",
    "    for k,v in small.items():\n",
    "        s = s + v * big.get(k,0)\n",
    "    return s   \n",
    "\n",
    "\n",
    "u = {0:0.5, 1:2.0, 2:-2.5}\n",
    "v = {0:-0.5, 2:2.5, 3:0.5}\n",
    "print(dot(u, v))"
   ]
  },
  {
   "cell_type": "code",
   "execution_count": 61,
   "metadata": {},
   "outputs": [
    {
     "data": {
      "text/plain": [
       "0"
      ]
     },
     "execution_count": 61,
     "metadata": {},
     "output_type": "execute_result"
    }
   ],
   "source": [
    "#test Irene\n",
    "u = {0:0.5, 1:2.0, 2:-2.5}\n",
    "v = {0:-0.5, 2:2.5, 3:0.5}\n",
    "u.get(3,0)"
   ]
  },
  {
   "cell_type": "markdown",
   "metadata": {},
   "source": [
    "## Exercise 4\n",
    "\n",
    "Define function ``increment`` which modifies a vector by adding\n",
    "another vector to it. The two vectors are given as dictionaries:\n",
    "\n",
    "- `u` - the vector to be modified (as a dictionary)\n",
    "- `v` - the vector (as a dictionary) which should be added to `u` \n",
    "\n",
    "This function should not return anything, but it should modify `u` so\n",
    "that it contains the union of the keys present in the two vectors. The\n",
    "value at each key should be the sum of the values at this key in the\n",
    "two vectors. Remember that if a key is missing from the dictionary\n",
    "representing the vector, the value is implicitly equal to 0.0.\n",
    "\n",
    "Note: a function (like ``increment``) which changes one of its inputs is called **destructive**."
   ]
  },
  {
   "cell_type": "code",
   "execution_count": 65,
   "metadata": {},
   "outputs": [
    {
     "name": "stdout",
     "output_type": "stream",
     "text": [
      "{0: 0.0, 1: 2.0, 2: 0.0, 3: 0.5}\n",
      "{0: 0.5, 1: 2.0, 2: -2.5}\n"
     ]
    }
   ],
   "source": [
    "def increment(big, small):\n",
    "    for k,v in small.items():\n",
    "        big[k] = big.get(k, 0.0) + v\n",
    "        \n",
    "        \n",
    "u = {0:0.5, 1:2.0, 2:-2.5}\n",
    "v = {0:-0.5, 2:2.5, 3:0.5}\n",
    "increment(u, v)\n",
    "print(u) \n",
    "u = {0:0.5, 1:2.0, 2:-2.5}\n",
    "w = {}\n",
    "increment(u, w)\n",
    "print(u)\n"
   ]
  },
  {
   "cell_type": "code",
   "execution_count": 75,
   "metadata": {},
   "outputs": [],
   "source": [
    "u = {0:0.5, 1:2.0, 2:-2.5}\n",
    "v = {0:-0.5, 2:2.5, 3:0.5}\n",
    "#for k,v in u.items():\n",
    " #   print(k,v)\n",
    "\n"
   ]
  },
  {
   "cell_type": "markdown",
   "metadata": {},
   "source": [
    "## Exercise 5\n",
    "\n",
    "Define function ``scale`` which takes a vector `u` (as a dictionary)\n",
    "and a number `n`, and returns a new vector dictionary which contains\n",
    "the values in vector `u` multiplied by `n`. This function should not\n",
    "modify its arguments, but should return a new dictionary. Note: the function\n",
    "``increment`` combined with the function ``scale`` can be used to\n",
    "represent vector substraction (``decrement``)."
   ]
  },
  {
   "cell_type": "code",
   "execution_count": 79,
   "metadata": {},
   "outputs": [
    {
     "name": "stdout",
     "output_type": "stream",
     "text": [
      "{0: 1.0, 1: 4.0, 2: -5.0}\n",
      "{0: 0.5, 1: 2.0, 2: -2.5}\n",
      "\n",
      "{0: -0.5, 2: 2.5, 3: 0.5}\n",
      "{0: 0.5, 2: -2.5, 3: -0.5}\n",
      "{0: 1.0, 1: 2.0, 2: -5.0, 3: -0.5}\n"
     ]
    }
   ],
   "source": [
    "def scale(u, n):\n",
    "    result = {}\n",
    "    for k,v in u.items():\n",
    "        result[k] = v * n\n",
    "    return result\n",
    "\n",
    "u = {0:0.5, 1:2.0, 2:-2.5}\n",
    "v = {0:-0.5, 2:2.5, 3:0.5}\n",
    "n = 2.0\n",
    "print(scale(u, n))\n",
    "print(u) # u should not be unchanged\n",
    "u = {0:0.5, 1:2.0, 2:-2.5}\n",
    "v = {0:-0.5, 2:2.5, 3:0.5}\n",
    "print()\n",
    "print(v)\n",
    "print(scale(v,-1.0))\n",
    "increment(u, scale(v, -1.0))\n",
    "print(u)\n"
   ]
  },
  {
   "cell_type": "markdown",
   "metadata": {
    "collapsed": true
   },
   "source": [
    "## Perceptron \n",
    "\n",
    "We will now start implementing the Perceptron algorithm. We will use a dictionary to keep the weights and the bias of the model. We'll initialize the bias to zero, and the weights to a vector of all zeros (represented as an empty dictionary). During training, we will update the values as we learn.\n"
   ]
  },
  {
   "cell_type": "code",
   "execution_count": 81,
   "metadata": {},
   "outputs": [
    {
     "data": {
      "text/plain": [
       "{'b': 0.0, 'w': {}}"
      ]
     },
     "execution_count": 81,
     "metadata": {},
     "output_type": "execute_result"
    }
   ],
   "source": [
    "def initialize():\n",
    "    w = {}\n",
    "    b = 0.0\n",
    "    return {'w':w,'b':b}\n",
    "\n",
    "model = initialize()\n",
    "model"
   ]
  },
  {
   "cell_type": "markdown",
   "metadata": {},
   "source": [
    "## Exercise 6\n",
    "\n",
    "Define function ``predict`` which takes two arguments: \n",
    "\n",
    "- `model` - the dictionary representation of the perceptron model with\n",
    "  keys 'w' for weights and 'b' for the bias\n",
    "- `x` - new input (as a dictionary)\n",
    "\n",
    "It should return the predicted target for the input `x`: it should\n",
    "compute the discriminant function `wx + b` and predict 1 if it is\n",
    "greater than or equal to 0, and -1 otherwise.\n",
    "\n"
   ]
  },
  {
   "cell_type": "code",
   "execution_count": 87,
   "metadata": {},
   "outputs": [
    {
     "name": "stdout",
     "output_type": "stream",
     "text": [
      "1\n"
     ]
    }
   ],
   "source": [
    "def predict(model, x):\n",
    "    gx = dot(model['w'], x) + model['b']\n",
    "    return 1 if gx >= 0 else -1\n",
    "\n",
    "x = u = {0:0.5, 1:2.0, 2:-2.5}\n",
    "model = initialize()\n",
    "print(predict(model, x))\n"
   ]
  },
  {
   "cell_type": "markdown",
   "metadata": {},
   "source": [
    "## Exercise 7\n",
    "\n",
    "We will now implement the update functionality of the perceptron\n",
    "algorithm. You need to code the function ``update``, which is given a\n",
    "training example, and first uses the ``predict`` function to guess\n",
    "the target, and the updates the weights and the bias of the model\n",
    "depending on whether the guess is correct or incorrect, and on the\n",
    "direction of the mistake. Finally, the function should return the\n",
    "guess. ``update`` is given two arguments:\n",
    "\n",
    "- `model` - this is the dictionary with keys 'w' (with weights) and\n",
    "  'b' (with the bias)\n",
    "- `xy` - this is the pair `(x,y)` where `x` is the input vector (as a\n",
    "  dictionary) and `y` is the target (-1 or 1, as an int).\n",
    "\n",
    "Details of the perceptron update rule are shown in the lecture slides\n",
    "for Session 4. Hints:\n",
    "\n",
    "- You can use the function  ``predict`` to make the guess.\n",
    "- When updating the weights, use the function ``increment``\n",
    "    (possibly with combination with ``scale``) to add the example\n",
    "    input to (or subtract it from) the model weights.\n",
    "\n",
    "Note: this function is destructive because it modifies its first argument."
   ]
  },
  {
   "cell_type": "code",
   "execution_count": 88,
   "metadata": {},
   "outputs": [
    {
     "name": "stdout",
     "output_type": "stream",
     "text": [
      "1\n",
      "{'b': -1.0, 'w': {0: -7.0, 1: -4.0, 3: -4.0, 4: -2.0, 5: -2.0, 11: -3.0}}\n"
     ]
    }
   ],
   "source": [
    "def update(model, xy):\n",
    "    x,y = xy\n",
    "    y_pred = predict(model, x)\n",
    "    if y_pred == 1 and y == -1:\n",
    "        increment(model['w'], scale(x, -1))\n",
    "        model['b'] = model['b'] - 1\n",
    "    elif y_pred == -1 and y == 1:\n",
    "        increment(model['w'], x)\n",
    "        model['b'] = model['b'] + 1\n",
    "    return y_pred\n",
    "\n",
    "\n",
    "x = { 0: 7.0, 1: 4.0, 3: 4.0, 4: 2.0, 5: 2.0, 11: 3.0 }\n",
    "y = -1\n",
    "model = initialize()\n",
    "y_pred = update(model, (x,y))\n",
    "print(y_pred)\n",
    "print(model)"
   ]
  },
  {
   "cell_type": "markdown",
   "metadata": {},
   "source": [
    "## Exercise 8\n",
    "\n",
    "Now you'll implement the function ``learn`` will processes each\n",
    "training example, generates a guess, and makes an update (using the\n",
    "``update`` function from Task 6). Finally it will return the list of\n",
    "guesses made. This function is given 2 arguments:\n",
    "\n",
    "- `model` - the dictionary representing the perceptron model\n",
    "- `XY` - the list of the training examples, where each example is a\n",
    "  tuple `(x, y)`, `x` being the input vector dictionary and `y` the\n",
    "  target (1 or -1)\n",
    "\n",
    "\n",
    "You can implement this function following these steps:\n",
    "\n",
    "- Initialize the list of guesses to an empty list\n",
    "- For each training example `(x,y)`\n",
    "  \n",
    "   - get a guess using the ``update`` function with the `model`\n",
    "   - add this guess to the list of guesses\n",
    "   \n",
    "- Return the complete list of guesses.\n"
   ]
  },
  {
   "cell_type": "code",
   "execution_count": 90,
   "metadata": {},
   "outputs": [],
   "source": [
    "def learn(model, XY):\n",
    "    preds = []\n",
    "    for i in range(0,len(XY)):\n",
    "        x_i, y_i = XY[i]\n",
    "        y_pred = update(model, (x_i, y_i))\n",
    "        preds.append(y_pred)\n",
    "    return preds\n"
   ]
  },
  {
   "cell_type": "markdown",
   "metadata": {},
   "source": [
    "## Exercise 9 \n",
    "\n",
    "In order to test our algorithm we will define function ``evaluate``, which takes the list of true class labels,\n",
    "another list with predicted class labels, and returns a tuple with\n",
    "three elements:\n",
    "\n",
    "- total number of errors\n",
    "- total number of labels  \n",
    "- error rate"
   ]
  },
  {
   "cell_type": "code",
   "execution_count": 92,
   "metadata": {},
   "outputs": [
    {
     "name": "stdout",
     "output_type": "stream",
     "text": [
      "(2, 5, 0.4)\n",
      "(0, 5, 0.0)\n"
     ]
    }
   ],
   "source": [
    "def evaluate(gold, predicted):\n",
    "    N = len(gold)\n",
    "    errs = sum(( 1 if p != y else 0 for p,y in zip(predicted, gold)))\n",
    "    return (errs, N, errs/N)  \n",
    "    \n",
    "    \n",
    "y_true = [-1,-1,1,1,1]\n",
    "y_pred = [-1,1,1,1,-1]\n",
    "print(evaluate(y_true, y_pred))\n",
    "print(evaluate(y_true, y_true))\n"
   ]
  },
  {
   "cell_type": "markdown",
   "metadata": {},
   "source": [
    "## Running\n",
    "\n",
    "Let's do a pass of perceptron learnng over the first 2000 examples."
   ]
  },
  {
   "cell_type": "code",
   "execution_count": 94,
   "metadata": {},
   "outputs": [],
   "source": [
    "XY_train = XY[:2000]\n",
    "Y_true = [ xy[1] for xy in XY_train ]\n",
    "model = initialize()\n",
    "Y_pred = learn(model, XY_train)"
   ]
  },
  {
   "cell_type": "markdown",
   "metadata": {},
   "source": [
    "Let's check how good the guesses made during training were."
   ]
  },
  {
   "cell_type": "code",
   "execution_count": 95,
   "metadata": {},
   "outputs": [
    {
     "name": "stdout",
     "output_type": "stream",
     "text": [
      "(199, 495, 0.402020202020202)\n"
     ]
    }
   ],
   "source": [
    "print(evaluate(Y_true, Y_pred))"
   ]
  },
  {
   "cell_type": "markdown",
   "metadata": {},
   "source": [
    "## Multiple passes\n",
    "\n",
    "We can run the model over the data a few times and monitor the performance on the second part of the data.\n"
   ]
  },
  {
   "cell_type": "code",
   "execution_count": 15,
   "metadata": {},
   "outputs": [
    {
     "name": "stdout",
     "output_type": "stream",
     "text": [
      "Pass  err_tr err_dev\n",
      "  1   0.365   0.298\n",
      "  2   0.224   0.272\n",
      "  3   0.187   0.254\n",
      "  4   0.154   0.194\n",
      "  5   0.139   0.199\n"
     ]
    }
   ],
   "source": [
    "def run(XY, passes=1):\n",
    "    XY_train = XY[:2000]\n",
    "    XY_dev   = XY[2000:]\n",
    "    Y_train = [ xy[1] for xy in XY_train ]\n",
    "    Y_dev   = [ xy[1] for xy in XY_dev ]\n",
    "    model = initialize()\n",
    "    print(\"{:>3s} {:>7s} {:>7s}\".format(\"Pass\", \"err_tr\", \"err_dev\"))\n",
    "    for i in range(1, passes+1):\n",
    "        predicted_train = learn(model, XY_train)\n",
    "        _, _, rate_train = evaluate(Y_train, predicted_train)\n",
    "        predicted_dev = [ predict(model, x) for (x,_) in XY_dev ]\n",
    "        _, _, rate_dev = evaluate(Y_dev, predicted_dev)\n",
    "        print(\"{:3d} {:7.3f} {:7.3f}\".format(i, rate_train, rate_dev))\n",
    "        \n",
    "run(XY, passes=5)        "
   ]
  },
  {
   "cell_type": "code",
   "execution_count": null,
   "metadata": {
    "collapsed": true
   },
   "outputs": [],
   "source": []
  }
 ],
 "metadata": {
  "kernelspec": {
   "display_name": "Python 3",
   "language": "python",
   "name": "python3"
  },
  "language_info": {
   "codemirror_mode": {
    "name": "ipython",
    "version": 3
   },
   "file_extension": ".py",
   "mimetype": "text/x-python",
   "name": "python",
   "nbconvert_exporter": "python",
   "pygments_lexer": "ipython3",
   "version": "3.5.3"
  }
 },
 "nbformat": 4,
 "nbformat_minor": 1
}
