{
 "cells": [
  {
   "cell_type": "markdown",
   "metadata": {},
   "source": [
    "# Evaluation metrics\n",
    "\n",
    "For this practical session you will read through this notebook, and work on any exercises you encounter."
   ]
  },
  {
   "cell_type": "code",
   "execution_count": 1,
   "metadata": {},
   "outputs": [
    {
     "name": "stdout",
     "output_type": "stream",
     "text": [
      "Populating the interactive namespace from numpy and matplotlib\n"
     ]
    }
   ],
   "source": [
    "# This line makes it so we can plot figures, you can ignore this.\n",
    "%pylab inline --no-import-all"
   ]
  },
  {
   "cell_type": "markdown",
   "metadata": {},
   "source": [
    "## Regression\n",
    "\n",
    "Regression is used to predict a (real) number. In the example in the cell below we have 12 data points in the variable *data*. The variables *prediction* and *alternative* are the predictions by two linear regression models fit to the data. In the plot you can see both predictions and the original data."
   ]
  },
  {
   "cell_type": "code",
   "execution_count": 2,
   "metadata": {},
   "outputs": [
    {
     "data": {
      "text/plain": [
       "<matplotlib.legend.Legend at 0x7f99ebf776a0>"
      ]
     },
     "execution_count": 2,
     "metadata": {},
     "output_type": "execute_result"
    },
    {
     "data": {
      "image/png": "[encoded data removed]",
      "text/plain": [
       "<matplotlib.figure.Figure at 0x7f99edfff518>"
      ]
     },
     "metadata": {},
     "output_type": "display_data"
    }
   ],
   "source": [
    "data = [0.6, 1.4, 2, 2.1, 2.5, 4, 5, 5.5, 6, 7.8, 8, 14]\n",
    "\n",
    "prediction1 = [ -0.41,   0.55,   1.52,   2.49,\n",
    "         3.46,   4.42,   5.39,   6.36,\n",
    "         7.33,   8.3 ,   9.27,  10.23]\n",
    "prediction2 = [-1.41, -0.25, 0.92, 2.09, \n",
    "        3.26, 4.42, 5.59, 6.76, 7.93, \n",
    "        9.1, 10.27, 11.43]\n",
    "\n",
    "plt.scatter(range(len(data)), data, label='Original data points')\n",
    "plt.plot(prediction1, label='Prediction 1')\n",
    "plt.plot(prediction2 , label='Prediction 2')\n",
    "plt.legend(loc='best')"
   ]
  },
  {
   "cell_type": "markdown",
   "metadata": {},
   "source": [
    "Based on just the plot it might be difficult to decide whether the *prediction1* or the *prediction2* is better. Luckily we can calculate objective measures to determine which is better. \n",
    "\n",
    "### Exercise 1 \n",
    "Complete the two functions given in the next cell in a manner such that the correct MAE and MSE are printed correctly.\n",
    "\n",
    "**Hints:** \n",
    "- Using a for-loop (and optionally the [zip](https://docs.python.org/2/library/functions.html#zip) function) it should be fairly straightforward to write these functions. \n",
    "- It's even easier using the `numpy` library.\n",
    "- More information about the `format` function can be found at: https://pyformat.info/"
   ]
  },
  {
   "cell_type": "code",
   "execution_count": 7,
   "metadata": {},
   "outputs": [],
   "source": [
    "# Irene\n",
    "import numpy as np\n",
    "\n",
    "def mae (y_true, y_pred):\n",
    "    return np.mean((np.array(y_true)-np.array(y_pred))**2)\n"
   ]
  },
  {
   "cell_type": "code",
   "execution_count": 3,
   "metadata": {},
   "outputs": [
    {
     "name": "stdout",
     "output_type": "stream",
     "text": [
      "Prediction 1:\n",
      "\tMAE: 1.019\n",
      "\tMSE: 1.830\n",
      "\n",
      "Prediction 2:\n",
      "\tMAE: 1.321\n",
      "\tMSE: 2.316\n"
     ]
    }
   ],
   "source": [
    "# ...........................................................................\n",
    "\n",
    "# List comprehension\n",
    "def mean_absolute_error(y_true, y_pred):\n",
    "    \"\"\"A function which takes two lists and returns the MAE\"\"\"\n",
    "    sum_abs = sum([abs(y_true[i] - y_pred[i]) for i in range(len(y_true))])\n",
    "    return sum_abs/len(y_true)\n",
    "\n",
    "# Explicit loop\n",
    "def mean_absolute_error(y_true, y_pred):\n",
    "    \"\"\"A function which takes two lists and returns the MAE\"\"\"\n",
    "    sum_abs = 0\n",
    "    for i in range(len(y_true)):\n",
    "        sum_abs += abs(y_true[i] - y_pred[i])\n",
    "    return sum_abs/len(y_true)   \n",
    "\n",
    "# Numpy\n",
    "import numpy as np\n",
    "def mean_squared_error(y_true, y_pred):\n",
    "    \"\"\"A function which takes two lists and returns the MSE\"\"\"\n",
    "    return np.mean((np.array(y_true) - np.array(y_pred))**2)\n",
    "\n",
    "\n",
    "    \n",
    "print('Prediction 1:')\n",
    "print('\\tMAE: {:04.3f}'.format(mean_absolute_error(data, prediction1)))\n",
    "print('\\tMSE: {:04.3f}'.format(mean_squared_error(data, prediction1)))\n",
    "print('')\n",
    "print('Prediction 2:')\n",
    "print('\\tMAE: {:04.3f}'.format(mean_absolute_error(data, prediction2)))\n",
    "print('\\tMSE: {:04.3f}'.format(mean_squared_error(data, prediction2)))"
   ]
  },
  {
   "cell_type": "markdown",
   "metadata": {},
   "source": [
    "## Binary classification\n",
    "\n",
    "Binary classification is applicable when there are only two possible answers (e.g., yes/no, good/bad, positive/negative, etc.). In this notebook we will use *0* (not-spam/ham) and *1* (spam) as the possible outcomes.\n",
    "\n",
    "In the cell below we have for 100 emails with information about whether they are really spam, and whether they were flagged as spam."
   ]
  },
  {
   "cell_type": "code",
   "execution_count": 8,
   "metadata": {},
   "outputs": [],
   "source": [
    "spam = [0, 0, 1, 0, 1, 0, 0, 1, 0, 0, 0, 0, 0, 0, 0, 1, 0, 0, 0, 0, 0, 0, 0, 0, 1, \n",
    "           0, 0, 0, 0, 0, 0, 0, 0, 1, 0, 1, 0, 0, 0, 0, 0, 0, 0, 0, 0, 0, 0, 0, 0, 0, \n",
    "           0, 1, 1, 1, 0, 1, 0, 0, 1, 0, 0, 0, 0, 0, 0, 0, 0, 0, 0, 0, 0, 0, 1, 0, 0, \n",
    "           0, 1, 0, 0, 0, 0, 0, 0, 0, 0, 0, 0, 0, 0, 1, 0, 1, 0, 0, 0, 0, 0, 1, 0, 0]\n",
    "\n",
    "flagged = [1, 0, 1, 0, 1, 0, 0, 0, 0, 0, 0, 0, 0, 0, 0, 1, 0, 0, 0, 0, 0, 0, 0, 0, 0,\n",
    "               0, 0, 0, 0, 0, 0, 0, 0, 0, 0, 0, 0, 0, 0, 0, 0, 0, 0, 0, 0, 0, 0, 0, 0, 0,\n",
    "               0, 1, 1, 0, 1, 1, 0, 0, 0, 0, 0, 0, 0, 0, 0, 0, 0, 0, 0, 0, 0, 0, 1, 0, 0,\n",
    "               0, 1, 0, 0, 0, 0, 0, 0, 0, 0, 0, 0, 0, 0, 1, 1, 1, 0, 0, 0, 0, 0, 1, 0, 0]"
   ]
  },
  {
   "cell_type": "markdown",
   "metadata": {},
   "source": [
    "### Exercise 2\n",
    "\n",
    "One way to evaluate how well our spam filter performed is to calculate the accuracy which  tells us how often it was correct. Complete the function in the next cell and use it to calculate the accuracy."
   ]
  },
  {
   "cell_type": "code",
   "execution_count": 10,
   "metadata": {},
   "outputs": [
    {
     "name": "stdout",
     "output_type": "stream",
     "text": [
      "0.91\n"
     ]
    }
   ],
   "source": [
    "# List comprehension\n",
    "def accuracy(y_true, y_pred):\n",
    "    # ................................................................\n",
    "    \"\"\"A function which takes two lists and returns the accuracy\"\"\"\n",
    "    assert len(y_true)==len(y_pred), \"Mismatching lengths\"\n",
    "    return sum([y_true[i]==y_pred[i] for i in range(len(y_true)) ]) / len(y_true)\n",
    "\n",
    "# Numpy\n",
    "def accuracy(y_true, y_pred):\n",
    "    y_true = np.array(y_true)\n",
    "    y_pred = np.array(y_pred)\n",
    "    return np.mean(y_true == y_pred)\n",
    "\n",
    "print(accuracy(spam, flagged))"
   ]
  },
  {
   "cell_type": "markdown",
   "metadata": {},
   "source": [
    "What would be a potential downside of using accuracy? Think of spam classification in terms of True Positives (TP), False Positives (FP), True Negatives (TN), and False Negatives (FN), as in the table below. Are all these types of errors equally important?\n",
    "\n",
    "|                 | Predicted Not Spam | Predicted Spam |\n",
    "|-----------------|:------------------:|:--------------:|\n",
    "| Actual Not Spam |   TN               |  FP            |\n",
    "| Actual Spam     |   FN               |  TP            |\n",
    "\n",
    "A table like the one above is called a confusion matrix, or error matrix, and it allows you to visualize your model's performance. In our case we are interested in how our spam filter performed.\n",
    "\n",
    "### Exercise 3\n",
    "\n",
    "Complete the *confusion_matrix* and *confusion_accuracy* functions in the cell below, and check whether the value returned by *confusion_accuracy* is the same as the value returned by the *accuracy* function you created for exercise 2 using the code below the two functions.\n",
    "\n",
    "Hint: you can use a two-dimensional `numpy` array, or a nested list to represent a confusion matrix."
   ]
  },
  {
   "cell_type": "code",
   "execution_count": 11,
   "metadata": {},
   "outputs": [
    {
     "name": "stdout",
     "output_type": "stream",
     "text": [
      "Looks good\n",
      "[[80  3]\n",
      " [ 6 11]]\n"
     ]
    }
   ],
   "source": [
    "def confusion_matrix(y_true, y_pred):\n",
    "    \"\"\"A function which takes two lists and returns a confusion matrix with the cells (TN, TP, FP, FN)\"\"\"\n",
    "    #............................................\n",
    "    M = np.array([[0,0], [0,0]])\n",
    "    for true, pred in zip(y_true, y_pred):\n",
    "        M[true, pred] += 1\n",
    "    return M\n",
    "    \n",
    "def cm_accuracy(M):\n",
    "    \"\"\"A function which takes the confusion matrix with 4 cells (TN, TP, FP, FN) and returns the accuracy\"\"\"\n",
    "    #............................................\n",
    "    TN = M[0, 0]\n",
    "    TP = M[1, 1]\n",
    "    FN = M[0, 1]\n",
    "    FP = M[1, 0]\n",
    "    return (TP + TN) / np.sum(M)\n",
    "    \n",
    "M = confusion_matrix(spam, flagged)\n",
    "if cm_accuracy(M) != accuracy(spam, flagged):\n",
    "    print(\"Your accuracies are not the same, you probably have a bug in your code!\")\n",
    "else:\n",
    "    print(\"Looks good\")\n",
    "print(M)"
   ]
  },
  {
   "cell_type": "markdown",
   "metadata": {},
   "source": [
    "Now that we have our confusion matrix we can calculate a number of other metrics, for this practical we will focus on precision and recall. \n",
    "\n",
    "### Exercise 4\n",
    "Complete the *precision* and *recall* functions given in the cell below."
   ]
  },
  {
   "cell_type": "code",
   "execution_count": 12,
   "metadata": {},
   "outputs": [
    {
     "name": "stdout",
     "output_type": "stream",
     "text": [
      "[[80  3]\n",
      " [ 6 11]]\n"
     ]
    }
   ],
   "source": [
    "print(M)"
   ]
  },
  {
   "cell_type": "code",
   "execution_count": 15,
   "metadata": {},
   "outputs": [
    {
     "name": "stdout",
     "output_type": "stream",
     "text": [
      "0.79\n",
      "0.647\n"
     ]
    }
   ],
   "source": [
    "def precision(M):\n",
    "    \"\"\"A function which takes a 2x2 confusion matrix and returns the precision\"\"\"\n",
    "    #...........................................\n",
    "    TP = M[1, 1]\n",
    "    FP = M[0, 1]\n",
    "    return TP/(TP+FP)\n",
    "\n",
    "    \n",
    "def recall(M):\n",
    "    \"\"\"A function which takes a 2x2 confusion matrix and returns the recall\"\"\"\n",
    "    #...............................................\n",
    "    TP = M[1, 1]\n",
    "    FN = M[1, 0]\n",
    "    return TP/(TP+FN)\n",
    "    \n",
    "print(round(precision(M),2))\n",
    "print(round(recall(M), 3))"
   ]
  },
  {
   "cell_type": "markdown",
   "metadata": {},
   "source": [
    "Often we are interested in doing well on both the precision and recall, and as such we can calculate the (harmonic) mean of these metrics. This harmonic mean is called the F1-score.\n",
    "\n",
    "The F1-score is a specific case of the F_beta-score, and is the most widely used case.\n",
    "\n",
    "### Exercise 5\n",
    "\n",
    "Complete the *f_beta_score* function in the next cell such that the provided *f_score* function returns the correct value."
   ]
  },
  {
   "cell_type": "code",
   "execution_count": 16,
   "metadata": {},
   "outputs": [],
   "source": [
    "def f_beta_score(precision, recall, beta=1):\n",
    "    \"\"\"A function which takes the precision and recall of some model, and a value for beta,\n",
    "    and returns the f_beta-score\"\"\"\n",
    "    #.......................................................................\n",
    "    return (1+beta**2) * precision * recall / (beta**2 * precision + recall)\n",
    "    "
   ]
  },
  {
   "cell_type": "code",
   "execution_count": 17,
   "metadata": {},
   "outputs": [
    {
     "name": "stdout",
     "output_type": "stream",
     "text": [
      "0.709677419355\n"
     ]
    }
   ],
   "source": [
    "def f_score(precision, recall):\n",
    "    return f_beta_score(precision, recall, beta=1) #quan la B es 1, es com si fessim F_score normal\n",
    "\n",
    "print(f_score(precision(M), recall(M)))"
   ]
  },
  {
   "cell_type": "markdown",
   "metadata": {},
   "source": [
    "Once you have a working *f_beta_score* function you can run the cell below. In this cell an example value is given for precision and recall, subsequently we create a plot for a number of beta values. Play around with different values of precision and recall, what is happening in this plot?"
   ]
  },
  {
   "cell_type": "code",
   "execution_count": 20,
   "metadata": {},
   "outputs": [
    {
     "data": {
      "text/plain": [
       "<matplotlib.text.Text at 0x7f99ebddb7b8>"
      ]
     },
     "execution_count": 20,
     "metadata": {},
     "output_type": "execute_result"
    },
    {
     "data": {
      "image/png": "[encoded data removed]",
      "text/plain": [
       "<matplotlib.figure.Figure at 0x7f99ebda8780>"
      ]
     },
     "metadata": {},
     "output_type": "display_data"
    }
   ],
   "source": [
    "example_precision = 0.4\n",
    "example_recall = 0.6\n",
    "beta = [x*0.1 for x in range(0,10)]\n",
    "\n",
    "plt.plot(beta, [f_beta_score(example_precision, example_recall, beta=b) for b in beta])\n",
    "plt.xlabel('Value of beta')\n",
    "plt.ylabel('F-beta score')"
   ]
  },
  {
   "cell_type": "markdown",
   "metadata": {},
   "source": [
    "## Multiclass classification \n",
    "\n",
    "Rather than just having two classes Spam (1) and Non-Spam (0), we now have a third class, e.g. Phishing emails (2). Think about how this changes how you would perform the evaluation, then make the exercises below."
   ]
  },
  {
   "cell_type": "code",
   "execution_count": 21,
   "metadata": {},
   "outputs": [],
   "source": [
    "true = [0, 0, 0, 0, 1, 0, 0, 0, 0, 0, 1, 0, 0, 0, 0, 0, 0,\n",
    "         2, 1, 1, 2, 2, 0, 0, 1, 0, 1, 1, 0, 0, 2, 1, 0, 1,\n",
    "         0, 0, 2, 0, 1, 0, 0, 1, 1, 0, 1, 1, 1, 1, 0, 0, 2,\n",
    "         0, 0, 2, 0, 1, 0, 0, 0, 1, 1, 1, 1, 2, 0, 0, 0, 0,\n",
    "         1, 0, 2, 0, 0, 0, 1, 2, 2, 1, 1, 0, 1, 1, 2, 1, 0,\n",
    "         0, 0, 0, 0, 0, 2, 0, 1, 0, 2, 1, 1, 1, 1, 1]\n",
    "\n",
    "pred = [0, 0, 0, 0, 2, 0, 0, 0, 2, 0, 1, 2, 0, 0, 0, 0, 1,\n",
    "             2, 1, 1, 2, 0, 1, 2, 1, 0, 1, 1, 0, 0, 2, 1, 0, 0,\n",
    "             0, 1, 2, 0, 1, 0, 0, 1, 1, 0, 1, 1, 1, 1, 1, 0, 2,\n",
    "             0, 2, 2, 0, 1, 0, 0, 0, 1, 1, 1, 1, 2, 0, 0, 0, 0,\n",
    "             1, 0, 2, 0, 0, 0, 1, 2, 2, 1, 1, 2, 1, 1, 1, 1, 1,\n",
    "             0, 0, 0, 0, 0, 2, 0, 1, 1, 2, 1, 0, 1, 1, 2]"
   ]
  },
  {
   "cell_type": "markdown",
   "metadata": {},
   "source": [
    "### Exercise 6\n",
    "Given the data in the cell above, complete the *multi_class_confusion_matrix* function given in the next cell. "
   ]
  },
  {
   "cell_type": "code",
   "execution_count": 22,
   "metadata": {},
   "outputs": [
    {
     "name": "stdout",
     "output_type": "stream",
     "text": [
      "[[ 41.   6.   5.]\n",
      " [  2.  30.   2.]\n",
      " [  1.   1.  12.]]\n"
     ]
    }
   ],
   "source": [
    "def multiclass_confusion_matrix(y_true, y_pred):\n",
    "    \"\"\"A function which takes two lists and returns a confusion matrix\"\"\"\n",
    "    #.....................................................\n",
    "    N = len(np.unique(y_true))\n",
    "    #M = [ [ 0 for n in range(N)] for n in range(N)]\n",
    "    M = np.zeros((N, N))\n",
    "    for true, pred in zip(y_true, y_pred):\n",
    "        M[true, pred] += 1\n",
    "    return M\n",
    "    \n",
    "print(multiclass_confusion_matrix(true, pred))"
   ]
  },
  {
   "cell_type": "markdown",
   "metadata": {},
   "source": [
    "## Advanced exercises\n",
    "\n",
    "The exercises beyond this point are more advanced.\n",
    "\n",
    "------------------\n",
    "\n",
    "In the lecture we talked about using sets to calculate the TP, FP, and FN for a dataset. We can use sets in Python directly instead of first computing the confusion matrix.\n",
    "\n",
    "In Python you can create a set thus:\n",
    "\n",
    "```\n",
    "a = set(x)\n",
    "```\n",
    "\n",
    "where x is a list.\n",
    "    \n",
    "You can compute intersection of sets a and b thus:\n",
    "\n",
    "``` \n",
    "c = a.intersection(b) \n",
    "```\n",
    "    \n",
    "You can compute the size of the set a thus:\n",
    "\n",
    "```\n",
    "len(a)\n",
    "```\n",
    "    \n",
    "You can compute the difference sets a and b thus:\n",
    "\n",
    "```\n",
    "d = a - b\n",
    "```\n",
    "    \n",
    "You can read more about sets in the Python documentation https://docs.python.org/3/tutorial/datastructures.html#sets"
   ]
  },
  {
   "cell_type": "markdown",
   "metadata": {},
   "source": [
    "### Exercise 7 \n",
    "\n",
    "Complete the *class_scores* function in the next cell. If this function works correctly the code below it should print the precision, recall, and f-score for each of the classes.\n",
    "\n",
    "**Hint:** Our data consists of two lists of class labels, which are not unique, so we cannot convert them to sets directly. We'll need to associate an ID not each email: the simplest way is to simply use their position in the list. For example:\n",
    "\n",
    "```\n",
    "spam = set([i for (i,v) in enumerate(true) if v == 1])\n",
    "```\n",
    "\n",
    "or without list comprehension:\n",
    "\n",
    "``` \n",
    "spam = set()\n",
    "for (i,v) in enumerate(true):\n",
    "    if v == 1:\n",
    "       spam.add(i) ```\n",
    "    \n",
    "This creates a set of all the emails for which the true label SPAM. We could do the same for the predictions, and create sets out of these so we can perform the set operations needed."
   ]
  },
  {
   "cell_type": "code",
   "execution_count": 13,
   "metadata": {},
   "outputs": [
    {
     "name": "stdout",
     "output_type": "stream",
     "text": [
      "class: 0\n",
      "\tPrecision: 0.932\n",
      "\tRecall: 0.788\n",
      "\tF-score: 0.854\n",
      "\n",
      "class: 1\n",
      "\tPrecision: 0.811\n",
      "\tRecall: 0.882\n",
      "\tF-score: 0.845\n",
      "\n",
      "class: 2\n",
      "\tPrecision: 0.632\n",
      "\tRecall: 0.857\n",
      "\tF-score: 0.727\n",
      "\n"
     ]
    }
   ],
   "source": [
    "def class_scores(y_true, y_pred, reference):\n",
    "    \"\"\"Function which takes two lists and a reference indicating which class \n",
    "    to calculate the TP, FP, and FN for.\"\"\"\n",
    "    # .................................................................\n",
    "    Y_true = set([ i for (i,v) in enumerate(y_true) if v == reference])\n",
    "    #print(\"Y_true:{}\".format(Y_true))\n",
    "    Y_pred = set([ i for (i,v) in enumerate(y_pred) if v == reference])\n",
    "    #print(\"Y_pred:{}\".format(Y_pred))\n",
    "    TP = len(Y_true.intersection(Y_pred))\n",
    "    # print(TP)\n",
    "    FP = len(Y_pred - Y_true)\n",
    "    FN = len(Y_true - Y_pred)\n",
    "    return TP, FP, FN\n",
    "\n",
    "\n",
    "\n",
    "for t in range(3): # Go over our three classes, 0=non-spam, 1=spam, 2=phishing\n",
    "    (TP, FP, FN) = class_scores(true, pred, t)\n",
    "    p = TP / (TP + FP)\n",
    "    r = TP / (TP + FN)\n",
    "    f = f_score(p, r)\n",
    "    \n",
    "    print('class: {:d}'.format(t))\n",
    "    print('\\tPrecision: {:04.3f}'.format(p))\n",
    "    print('\\tRecall: {:04.3f}'.format(r))\n",
    "    print('\\tF-score: {:04.3f}'.format(f))\n",
    "    print('')"
   ]
  },
  {
   "cell_type": "markdown",
   "metadata": {},
   "source": [
    "### Exercise 8 \n",
    "\n",
    "In the cell above we calculated the metrics per class, but as we discussed in the lecture it is also possible to calculate macro/micro averaged versions of these metrics. Complete the function *macro_averaged*: compute the precision/recall for each class, average them, and return the average precision, average recall, as well as the f1-score.\n"
   ]
  },
  {
   "cell_type": "code",
   "execution_count": 14,
   "metadata": {},
   "outputs": [
    {
     "name": "stdout",
     "output_type": "stream",
     "text": [
      "Macro averaged metrics:\n",
      "        \tPrecision: 0.791\n",
      "        \tRecall: 0.843\n",
      "        \tF-score: 0.816\n"
     ]
    }
   ],
   "source": [
    "def macro_averaged(y_true, y_pred):\n",
    "    \"\"\"Function which takes two lists and returns the macro averaged precision, recall, and f-score\"\"\"\n",
    "    #..........................................\n",
    "    P = []\n",
    "    R = []\n",
    "    # set of classes \n",
    "    K = np.unique(y_true)\n",
    "    for k in K:\n",
    "        TP, FP, FN = class_scores(y_true, y_pred, k)\n",
    "        P.append(TP/(TP+FP))\n",
    "        R.append(TP/(TP+FN))\n",
    "    P_avg = np.mean(P)\n",
    "    R_avg = np.mean(R)\n",
    "    return (P_avg, R_avg, f_score(P_avg, R_avg))\n",
    "\n",
    "    \n",
    "\n",
    "print(\"\"\"Macro averaged metrics:\n",
    "        \\tPrecision: {:04.3f}\n",
    "        \\tRecall: {:04.3f}\n",
    "        \\tF-score: {:04.3f}\"\"\".format(*macro_averaged(true, pred)))\n"
   ]
  },
  {
   "cell_type": "code",
   "execution_count": null,
   "metadata": {
    "collapsed": true
   },
   "outputs": [],
   "source": []
  }
 ],
 "metadata": {
  "kernelspec": {
   "display_name": "Python 3",
   "language": "python",
   "name": "python3"
  },
  "language_info": {
   "codemirror_mode": {
    "name": "ipython",
    "version": 3
   },
   "file_extension": ".py",
   "mimetype": "text/x-python",
   "name": "python",
   "nbconvert_exporter": "python",
   "pygments_lexer": "ipython3",
   "version": "3.5.3"
  }
 },
 "nbformat": 4,
 "nbformat_minor": 1
}
